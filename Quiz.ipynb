{
 "cells": [
  {
   "cell_type": "raw",
   "id": "7f381383-0bf0-40c0-a792-a0afd2cdd22c",
   "metadata": {},
   "source": [
    "print('Welcome to my computer quiz!')\n",
    "\n",
    "playing=input('Do you want to play? ')\n",
    "\n",
    "if playing.lower() != 'yes':\n",
    "    quit()\n",
    "\n",
    "print('Okay! Let\\'s play :)')\n",
    "\n",
    "score=0\n",
    "\n",
    "answer=input('What does CPU stand for? ')\n",
    "if answer.lower()=='central processing unit':\n",
    "    print('Correct !!')\n",
    "    score+=1\n",
    "else:\n",
    "    print('Incorrect !')\n",
    "    \n",
    "answer=input('What does GPU stand for? ')\n",
    "if answer.lower()=='graphics processing unit':\n",
    "    print('Correct !!')\n",
    "    score+=1\n",
    "else:\n",
    "    print('Incorrect !')\n",
    "\n",
    "answer=input('What does RAM stand for? ')\n",
    "if answer.lower()=='random acess memory':\n",
    "    print('Correct !!')\n",
    "    score+=1\n",
    "else:\n",
    "    print('Incorrect !')\n",
    "\n",
    "answer=input('What does PSU stand for? ')\n",
    "if answer.lower()=='power supply unit':\n",
    "    print('Correct !!')\n",
    "    score+=1\n",
    "else:\n",
    "    print('Incorrect !')\n",
    "\n",
    "print('You got ' + str(score) + ' questions correct !!')\n",
    "print('You got ' + str((score/4)*100)+ '%.')"
   ]
  },
  {
   "cell_type": "raw",
   "id": "8c250e07-e055-4e73-a104-08f658ebdc61",
   "metadata": {},
   "source": [
    "import random\n",
    "top_of_range=input('Type a number: ')\n",
    "if top_of_range.isdigit():\n",
    "    top_of_range=int(top_of_range)\n",
    "    if top_of_range <= 0:\n",
    "        print('Please type a number larger than 0 next time.')\n",
    "        quit()\n",
    "else:\n",
    "    print('Please type a number next time.')\n",
    "    quit()\n",
    "random_number=random.randint(0,top_of_range)\n",
    "guesses=0\n",
    "while True:\n",
    "    guesses+=1\n",
    "    user_guess=input('Make a guess: ')\n",
    "    if user_guess.isdigit():\n",
    "        user_guess=int(user_guess)\n",
    "    else:\n",
    "        print('Please type a number next time.')\n",
    "        continue\n",
    "    if user_guess==random_number:\n",
    "        print('You got it!')\n",
    "        break\n",
    "    elif user_guess > random_number:\n",
    "        print(\"You were above the number!\")\n",
    "    else:\n",
    "        print(\"You were below the number!\")\n",
    "\n",
    "print('You got it in ',         guesses, ' guesses')\n"
   ]
  },
  {
   "cell_type": "code",
   "execution_count": null,
   "id": "bf6d0fea-33ea-4131-a0a0-90c213f3441d",
   "metadata": {},
   "outputs": [],
   "source": []
  }
 ],
 "metadata": {
  "kernelspec": {
   "display_name": "Python 3 (ipykernel)",
   "language": "python",
   "name": "python3"
  },
  "language_info": {
   "codemirror_mode": {
    "name": "ipython",
    "version": 3
   },
   "file_extension": ".py",
   "mimetype": "text/x-python",
   "name": "python",
   "nbconvert_exporter": "python",
   "pygments_lexer": "ipython3",
   "version": "3.12.5"
  }
 },
 "nbformat": 4,
 "nbformat_minor": 5
}
